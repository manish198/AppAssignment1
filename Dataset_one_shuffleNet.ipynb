{
  "nbformat": 4,
  "nbformat_minor": 0,
  "metadata": {
    "colab": {
      "provenance": [],
      "include_colab_link": true
    },
    "kernelspec": {
      "name": "python3",
      "display_name": "Python 3"
    },
    "language_info": {
      "name": "python"
    }
  },
  "cells": [
    {
      "cell_type": "markdown",
      "metadata": {
        "id": "view-in-github",
        "colab_type": "text"
      },
      "source": [
        "<a href=\"https://colab.research.google.com/github/manish198/AppAssignment1/blob/main/Dataset_one_shuffleNet.ipynb\" target=\"_parent\"><img src=\"https://colab.research.google.com/assets/colab-badge.svg\" alt=\"Open In Colab\"/></a>"
      ]
    },
    {
      "cell_type": "code",
      "execution_count": null,
      "metadata": {
        "id": "RdXq9H9-4oUT",
        "colab": {
          "base_uri": "https://localhost:8080/"
        },
        "outputId": "ba694bfe-a332-4bf2-b151-0ed007bc6128"
      },
      "outputs": [
        {
          "output_type": "stream",
          "name": "stdout",
          "text": [
            "Mounted at /content/drive\n"
          ]
        }
      ],
      "source": [
        "from google.colab import drive\n",
        "drive.mount('/content/drive')"
      ]
    },
    {
      "cell_type": "code",
      "source": [
        "datset_url='/content/drive/MyDrive/plant_leaf_dataset/dataset1/'"
      ],
      "metadata": {
        "id": "877c5prF5OTV"
      },
      "execution_count": null,
      "outputs": []
    },
    {
      "cell_type": "code",
      "source": [
        "import pathlib"
      ],
      "metadata": {
        "id": "YVHgB7Mi5dL2"
      },
      "execution_count": null,
      "outputs": []
    },
    {
      "cell_type": "code",
      "source": [
        "dataset_dir=pathlib.Path(datset_url)"
      ],
      "metadata": {
        "id": "x7NM7SP55ase"
      },
      "execution_count": null,
      "outputs": []
    },
    {
      "cell_type": "code",
      "source": [
        "dataset_dict={\n",
        "    '(1)q_aff_cerris':list(dataset_dir.glob('(1)q_aff_cerris/*jpg')),\n",
        "    '(2)q_rubur_f_purpubascens':list(dataset_dir.glob('(2)q_rubur_f_purpubascens/*jpg')),\n",
        "    '(3)q_x_hispanica':list(dataset_dir.glob('(3)q_x_hispanica/*jpg')),\n",
        "    '(4)q_x_kewensis':list(dataset_dir.glob('(4)q_x_kewensis/*jpg')),\n",
        "    '(5)q_x_ludoviciana':list(dataset_dir.glob('(5)q_x_ludoviciana/*jpg')),\n",
        "    '(6)q_x_mannifera':list(dataset_dir.glob('(6)q_x_mannifera/*jpg')),\n",
        "    '(7)q_x_rosacea':list(dataset_dir.glob('(7)q_x_rosacea/*jpg')),\n",
        "    '(8)q_x_turneri':list(dataset_dir.glob('(8)q_x_turneri/*jpg')),\n",
        "    '(9)qacutissima':list(dataset_dir.glob('(9)qacutissima/*jpg')),\n",
        "    '(10)qagriefolia':list(dataset_dir.glob('(10)qagriefolia/*jpg')),\n",
        "    '(11)qagrifolia':list(dataset_dir.glob('(11)qagrifolia/*jpg')),\n",
        "    '(12)qarkansana':list(dataset_dir.glob('(12)qarkansana/*jpg')),\n",
        "    '(13)qboissieri':list(dataset_dir.glob('(13)qboissieri/*jpg')),\n",
        "    '(14)qcanariensis':list(dataset_dir.glob('(14)qcanariensis/*jpg')),\n",
        "    '(15)qcastaneifolia':list(dataset_dir.glob('(15)qcastaneifolia/*jpg')),\n",
        "    '(16)qcerris':list(dataset_dir.glob('(16)qcerris/*jpg')),\n",
        "    '(17)qellipsoidalis':list(dataset_dir.glob('(17)qellipsoidalis/*jpg')),\n",
        "    '(18)qfrainetto':list(dataset_dir.glob('(18)qfrainetto/*jpg')),\n",
        "    '(19)qhartwissiana':list(dataset_dir.glob('(19)qhartwissiana/*jpg')),\n",
        "    '(20)qhemisphaerica':list(dataset_dir.glob('(20)qhemisphaerica/*jpg'))\n",
        "}"
      ],
      "metadata": {
        "id": "7tTXcn0A6kDf"
      },
      "execution_count": null,
      "outputs": []
    },
    {
      "cell_type": "code",
      "source": [
        "dataset_label={\n",
        "    '(1)q_aff_cerris':0,\n",
        "    '(2)q_rubur_f_purpubascens':1,\n",
        "    '(3)q_x_hispanica':2,\n",
        "    '(4)q_x_kewensis':3,\n",
        "    '(5)q_x_ludoviciana':4,\n",
        "    '(6)q_x_mannifera':5,\n",
        "    '(7)q_x_rosacea':6,\n",
        "    '(8)q_x_turneri':7,\n",
        "    '(9)qacutissima':8,\n",
        "    '(10)qagriefolia':9,\n",
        "    '(11)qagrifolia':10,\n",
        "    '(12)qarkansana':11,\n",
        "    '(13)qboissieri':12,\n",
        "    '(14)qcanariensis':13,\n",
        "    '(15)qcastaneifolia':14,\n",
        "    '(16)qcerris':15,\n",
        "    '(17)qellipsoidalis':16,\n",
        "    '(18)qfrainetto':17,\n",
        "    '(19)qhartwissiana':18,\n",
        "    '(20)qhemisphaerica':19\n",
        "}"
      ],
      "metadata": {
        "id": "rbaS9JRD7EXT"
      },
      "execution_count": null,
      "outputs": []
    },
    {
      "cell_type": "code",
      "source": [
        "from PIL import Image"
      ],
      "metadata": {
        "id": "ilBjXy93G7XV"
      },
      "execution_count": null,
      "outputs": []
    },
    {
      "cell_type": "code",
      "source": [
        "X,y=[],[]\n",
        "count=0\n",
        "for key in dataset_dict:\n",
        "  for image in dataset_dict[key]:\n",
        "    resized_image=Image.open(image).resize((224,224))\n",
        "    X.append(resized_image)\n",
        "    y.append(dataset_label[key])\n",
        "    count+=1\n",
        "    if (count%100==0):\n",
        "      print(f\"{count} images added to the list\")"
      ],
      "metadata": {
        "id": "OzqImEKPF4rG",
        "colab": {
          "base_uri": "https://localhost:8080/"
        },
        "outputId": "c0601674-4bc8-409c-b749-ce233d05298b"
      },
      "execution_count": null,
      "outputs": [
        {
          "output_type": "stream",
          "name": "stdout",
          "text": [
            "100 images added to the list\n",
            "200 images added to the list\n",
            "300 images added to the list\n",
            "400 images added to the list\n",
            "500 images added to the list\n",
            "600 images added to the list\n",
            "700 images added to the list\n",
            "800 images added to the list\n",
            "900 images added to the list\n",
            "1000 images added to the list\n",
            "1100 images added to the list\n",
            "1200 images added to the list\n",
            "1300 images added to the list\n",
            "1400 images added to the list\n",
            "1500 images added to the list\n",
            "1600 images added to the list\n",
            "1700 images added to the list\n",
            "1800 images added to the list\n",
            "1900 images added to the list\n",
            "2000 images added to the list\n",
            "2100 images added to the list\n",
            "2200 images added to the list\n",
            "2300 images added to the list\n",
            "2400 images added to the list\n",
            "2500 images added to the list\n",
            "2600 images added to the list\n",
            "2700 images added to the list\n",
            "2800 images added to the list\n",
            "2900 images added to the list\n",
            "3000 images added to the list\n",
            "3100 images added to the list\n",
            "3200 images added to the list\n",
            "3300 images added to the list\n",
            "3400 images added to the list\n",
            "3500 images added to the list\n",
            "3600 images added to the list\n",
            "3700 images added to the list\n",
            "3800 images added to the list\n",
            "3900 images added to the list\n",
            "4000 images added to the list\n",
            "4100 images added to the list\n",
            "4200 images added to the list\n",
            "4300 images added to the list\n",
            "4400 images added to the list\n",
            "4500 images added to the list\n",
            "4600 images added to the list\n",
            "4700 images added to the list\n",
            "4800 images added to the list\n",
            "4900 images added to the list\n",
            "5000 images added to the list\n",
            "5100 images added to the list\n",
            "5200 images added to the list\n",
            "5300 images added to the list\n",
            "5400 images added to the list\n",
            "5500 images added to the list\n",
            "5600 images added to the list\n",
            "5700 images added to the list\n",
            "5800 images added to the list\n",
            "5900 images added to the list\n",
            "6000 images added to the list\n",
            "6100 images added to the list\n",
            "6200 images added to the list\n",
            "6300 images added to the list\n",
            "6400 images added to the list\n",
            "6500 images added to the list\n",
            "6600 images added to the list\n",
            "6700 images added to the list\n",
            "6800 images added to the list\n",
            "6900 images added to the list\n",
            "7000 images added to the list\n",
            "7100 images added to the list\n",
            "7200 images added to the list\n",
            "7300 images added to the list\n",
            "7400 images added to the list\n",
            "7500 images added to the list\n",
            "7600 images added to the list\n",
            "7700 images added to the list\n",
            "7800 images added to the list\n",
            "7900 images added to the list\n",
            "8000 images added to the list\n",
            "8100 images added to the list\n",
            "8200 images added to the list\n",
            "8300 images added to the list\n",
            "8400 images added to the list\n",
            "8500 images added to the list\n",
            "8600 images added to the list\n",
            "8700 images added to the list\n",
            "8800 images added to the list\n",
            "8900 images added to the list\n",
            "9000 images added to the list\n",
            "9100 images added to the list\n",
            "9200 images added to the list\n",
            "9300 images added to the list\n",
            "9400 images added to the list\n",
            "9500 images added to the list\n",
            "9600 images added to the list\n",
            "9700 images added to the list\n",
            "9800 images added to the list\n",
            "9900 images added to the list\n",
            "10000 images added to the list\n",
            "10100 images added to the list\n",
            "10200 images added to the list\n",
            "10300 images added to the list\n",
            "10400 images added to the list\n",
            "10500 images added to the list\n",
            "10600 images added to the list\n",
            "10700 images added to the list\n",
            "10800 images added to the list\n",
            "10900 images added to the list\n",
            "11000 images added to the list\n",
            "11100 images added to the list\n",
            "11200 images added to the list\n",
            "11300 images added to the list\n",
            "11400 images added to the list\n",
            "11500 images added to the list\n",
            "11600 images added to the list\n",
            "11700 images added to the list\n",
            "11800 images added to the list\n",
            "11900 images added to the list\n",
            "12000 images added to the list\n",
            "12100 images added to the list\n",
            "12200 images added to the list\n",
            "12300 images added to the list\n",
            "12400 images added to the list\n",
            "12500 images added to the list\n",
            "12600 images added to the list\n",
            "12700 images added to the list\n",
            "12800 images added to the list\n",
            "12900 images added to the list\n",
            "13000 images added to the list\n",
            "13100 images added to the list\n",
            "13200 images added to the list\n",
            "13300 images added to the list\n",
            "13400 images added to the list\n",
            "13500 images added to the list\n",
            "13600 images added to the list\n",
            "13700 images added to the list\n",
            "13800 images added to the list\n",
            "13900 images added to the list\n",
            "14000 images added to the list\n",
            "14100 images added to the list\n",
            "14200 images added to the list\n",
            "14300 images added to the list\n",
            "14400 images added to the list\n",
            "14500 images added to the list\n",
            "14600 images added to the list\n",
            "14700 images added to the list\n",
            "14800 images added to the list\n",
            "14900 images added to the list\n",
            "15000 images added to the list\n",
            "15100 images added to the list\n",
            "15200 images added to the list\n",
            "15300 images added to the list\n",
            "15400 images added to the list\n",
            "15500 images added to the list\n",
            "15600 images added to the list\n",
            "15700 images added to the list\n",
            "15800 images added to the list\n",
            "15900 images added to the list\n",
            "16000 images added to the list\n",
            "16100 images added to the list\n",
            "16200 images added to the list\n",
            "16300 images added to the list\n",
            "16400 images added to the list\n",
            "16500 images added to the list\n",
            "16600 images added to the list\n",
            "16700 images added to the list\n",
            "16800 images added to the list\n",
            "16900 images added to the list\n",
            "17000 images added to the list\n",
            "17100 images added to the list\n",
            "17200 images added to the list\n",
            "17300 images added to the list\n",
            "17400 images added to the list\n",
            "17500 images added to the list\n",
            "17600 images added to the list\n",
            "17700 images added to the list\n",
            "17800 images added to the list\n",
            "17900 images added to the list\n",
            "18000 images added to the list\n",
            "18100 images added to the list\n",
            "18200 images added to the list\n",
            "18300 images added to the list\n",
            "18400 images added to the list\n",
            "18500 images added to the list\n",
            "18600 images added to the list\n",
            "18700 images added to the list\n",
            "18800 images added to the list\n",
            "18900 images added to the list\n",
            "19000 images added to the list\n",
            "19100 images added to the list\n",
            "19200 images added to the list\n",
            "19300 images added to the list\n",
            "19400 images added to the list\n",
            "19500 images added to the list\n",
            "19600 images added to the list\n",
            "19700 images added to the list\n",
            "19800 images added to the list\n",
            "19900 images added to the list\n",
            "20000 images added to the list\n",
            "20100 images added to the list\n",
            "20200 images added to the list\n",
            "20300 images added to the list\n",
            "20400 images added to the list\n",
            "20500 images added to the list\n",
            "20600 images added to the list\n",
            "20700 images added to the list\n",
            "20800 images added to the list\n",
            "20900 images added to the list\n",
            "21000 images added to the list\n"
          ]
        }
      ]
    },
    {
      "cell_type": "code",
      "source": [
        "from sklearn.model_selection import train_test_split"
      ],
      "metadata": {
        "id": "dgwMoC2tHjDC"
      },
      "execution_count": null,
      "outputs": []
    },
    {
      "cell_type": "code",
      "source": [
        "(X_train,X_test,y_train,y_test)=train_test_split(X,y,test_size=0.2,random_state=0)"
      ],
      "metadata": {
        "id": "XmW4Fp9gHlEr"
      },
      "execution_count": null,
      "outputs": []
    },
    {
      "cell_type": "code",
      "source": [
        "print(len(X_train),len(y_train))"
      ],
      "metadata": {
        "id": "Jj-EufFcG1ne",
        "colab": {
          "base_uri": "https://localhost:8080/"
        },
        "outputId": "17dcb034-4e69-4412-ccf7-84ba0d8f35cc"
      },
      "execution_count": null,
      "outputs": [
        {
          "output_type": "stream",
          "name": "stdout",
          "text": [
            "16832 16832\n"
          ]
        }
      ]
    },
    {
      "cell_type": "code",
      "source": [
        "import torch\n",
        "import torch.nn as nn\n",
        "import torchvision.models as models\n",
        "from torch.utils.data import DataLoader, Dataset\n",
        "import torchvision.transforms as transforms\n",
        "from torch.utils.data.dataset import random_split"
      ],
      "metadata": {
        "id": "YeG3VxQnGgPz"
      },
      "execution_count": null,
      "outputs": []
    },
    {
      "cell_type": "code",
      "source": [
        "# Define global variables:\n",
        "num_classes=20\n",
        "NUM_EPOCHS = 20\n",
        "batch_size = 32"
      ],
      "metadata": {
        "id": "r702LlDAHve1"
      },
      "execution_count": null,
      "outputs": []
    },
    {
      "cell_type": "code",
      "source": [
        "from torchvision.models import shufflenet_v2_x0_5\n",
        "model = torch.hub.load('pytorch/vision:v0.10.0', 'shufflenet_v2_x0_5', weights=None)"
      ],
      "metadata": {
        "id": "BOccDXH_rJ8y",
        "colab": {
          "base_uri": "https://localhost:8080/"
        },
        "outputId": "ea59a37b-1d44-44fa-d3ee-91f5c4a38cc6"
      },
      "execution_count": null,
      "outputs": [
        {
          "output_type": "stream",
          "name": "stderr",
          "text": [
            "Downloading: \"https://github.com/pytorch/vision/zipball/v0.10.0\" to /root/.cache/torch/hub/v0.10.0.zip\n"
          ]
        }
      ]
    },
    {
      "cell_type": "code",
      "source": [
        "# model=shufflenet_v2_x0_5()\n",
        "num_ftr=model.fc.in_features\n",
        "model.fc=torch.nn.Linear(num_ftr,num_classes)"
      ],
      "metadata": {
        "id": "CEr177PQV9w0"
      },
      "execution_count": null,
      "outputs": []
    },
    {
      "cell_type": "code",
      "source": [
        "#Loss Function\n",
        "criterion=torch.nn.CrossEntropyLoss()"
      ],
      "metadata": {
        "id": "qdd28GCoWJ6P"
      },
      "execution_count": null,
      "outputs": []
    },
    {
      "cell_type": "code",
      "source": [
        "## Optimizer stocastic gradient descent\n",
        "optimizer = torch.optim.SGD(model.parameters(), lr=0.01, momentum=0.9)"
      ],
      "metadata": {
        "id": "eJRj1YhHWR2m"
      },
      "execution_count": null,
      "outputs": []
    },
    {
      "cell_type": "code",
      "source": [
        "#Making the dataset ready for taining out of x_train and y_train\n",
        "\n",
        "class CustomDataset(Dataset):\n",
        "    def __init__(self, images, labels, transform=None):\n",
        "        self.images = images\n",
        "        self.labels = labels\n",
        "        self.transform = transform\n",
        "\n",
        "    def __len__(self):\n",
        "        return len(self.images)\n",
        "\n",
        "    def __getitem__(self, idx):\n",
        "        image = self.images[idx]\n",
        "        label = self.labels[idx]\n",
        "\n",
        "        if self.transform:\n",
        "            image = self.transform(image)\n",
        "\n",
        "        return image, label\n",
        "\n",
        "# Define your transformations\n",
        "transform = transforms.Compose([\n",
        "    transforms.ToTensor(),\n",
        "    transforms.Normalize(mean=[0.485, 0.456, 0.406],\n",
        "                         std=[0.229, 0.224, 0.225])\n",
        "])\n",
        "\n",
        "# Create your Dataset\n",
        "dataset = CustomDataset(images=X_train, labels=y_train, transform=transform)"
      ],
      "metadata": {
        "id": "kKAhHwchWbqH"
      },
      "execution_count": null,
      "outputs": []
    },
    {
      "cell_type": "code",
      "source": [
        "# Once the dataset is ready split the x_train, y_train dataset into training and validation dataset\n",
        "# 80% for training 20% for validation\n",
        "train_size = int(0.8 * len(dataset))\n",
        "val_size = len(dataset) - train_size\n",
        "train_dataset, validation_dataset = random_split(dataset, [train_size, val_size])\n",
        "print(len(train_dataset))\n",
        "print(len(validation_dataset))"
      ],
      "metadata": {
        "id": "DeiKSSepWfc6",
        "colab": {
          "base_uri": "https://localhost:8080/"
        },
        "outputId": "aea71429-27ee-492c-d84d-9805219cb26e"
      },
      "execution_count": null,
      "outputs": [
        {
          "output_type": "stream",
          "name": "stdout",
          "text": [
            "13465\n",
            "3367\n"
          ]
        }
      ]
    },
    {
      "cell_type": "code",
      "source": [
        "# Create data loader to feed the CNN\n",
        "train_loader = DataLoader(train_dataset, batch_size=batch_size, shuffle=True)\n",
        "validation_loader = DataLoader(validation_dataset, batch_size=batch_size, shuffle=True)\n",
        "test_dataset = CustomDataset(images=X_test, labels=y_test, transform=transform)\n",
        "test_loader = DataLoader(test_dataset, batch_size=batch_size, shuffle=True)"
      ],
      "metadata": {
        "id": "N5Q8pg8uWjtW"
      },
      "execution_count": null,
      "outputs": []
    },
    {
      "cell_type": "code",
      "source": [
        "epochs_list=[x for x in range(NUM_EPOCHS)]\n",
        "train_loss_list=[]\n",
        "validation_loss_list=[]\n",
        "test_loss_list=[]\n",
        "training_accuracy_list=[]\n",
        "validation_accuracy_list=[]\n",
        "test_accuracy_list=[]"
      ],
      "metadata": {
        "id": "LJ0ROVXCHYpq"
      },
      "execution_count": null,
      "outputs": []
    },
    {
      "cell_type": "code",
      "source": [
        "import numpy as np"
      ],
      "metadata": {
        "id": "fjeZOHrv2Snz"
      },
      "execution_count": null,
      "outputs": []
    },
    {
      "cell_type": "code",
      "source": [
        "# Iterate over the dataset\n",
        "for epoch in range(NUM_EPOCHS):\n",
        "    total=0\n",
        "    correct=0\n",
        "    batch=0\n",
        "\n",
        "    accumulated_loss=0\n",
        "    model.train()\n",
        "    for images, labels in train_loader:\n",
        "        batch+=1\n",
        "        # Forward pass\n",
        "        outputs = model(images)\n",
        "        # print(labels)\n",
        "        # print('output........',outputs)\n",
        "        # print('logits.......',logits)\n",
        "        loss = criterion(outputs, labels)\n",
        "\n",
        "        # Backward pass and optimization\n",
        "        optimizer.zero_grad()\n",
        "        loss.backward()\n",
        "        optimizer.step()\n",
        "        _, predicted = torch.max(outputs, 1)\n",
        "        total += labels.size(0)\n",
        "        correct += (predicted == labels).sum().item()\n",
        "        accumulated_loss+=loss.detach().numpy().astype(np.float64)\n",
        "        # print(accumulated_loss)\n",
        "        # print(type(accumulated_loss))\n",
        "        if (batch%100==0):\n",
        "          print(f'Loss for {batch}/{len(train_loader)} of {epoch} epochs is: ',loss)\n",
        "          # break\n",
        "        # if(batch==2):\n",
        "        #   break\n",
        "    training_accuracy = correct / total\n",
        "    training_accuracy_list.append(training_accuracy)\n",
        "    print(f'EPOCH{epoch}....................')\n",
        "    print('Accuracy on training set: {}%'.format(100 * training_accuracy))\n",
        "    train_loss_list.append(accumulated_loss/len(train_loader))\n",
        "\n",
        "    correct = 0\n",
        "    total = 0\n",
        "    accumulated_loss=0\n",
        "\n",
        "    #Evaluation\n",
        "    model.eval()\n",
        "    with torch.inference_mode():\n",
        "      for images, labels in validation_loader:\n",
        "        outputs = model(images)\n",
        "        loss=criterion(outputs,labels)\n",
        "        _, predicted = torch.max(outputs.data, 1)\n",
        "        total += labels.size(0)\n",
        "        correct += (predicted == labels).sum().item()\n",
        "        accumulated_loss+=loss.detach().numpy().astype(np.float64)\n",
        "\n",
        "      validation_loss_list.append(accumulated_loss/len(validation_loader))\n",
        "      validation_accuracy=correct/total\n",
        "      print(f'EPOCH{epoch}.......')\n",
        "      print('Accuracy on validation set: {}%'.format(100 * validation_accuracy))\n",
        "      validation_accuracy_list.append(validation_accuracy)\n",
        "\n",
        "    correct = 0\n",
        "    total = 0\n",
        "    accumulated_loss=0\n",
        "    #Testing\n",
        "    model.eval()\n",
        "    with torch.inference_mode():\n",
        "      for images, labels in test_loader:\n",
        "        outputs = model(images)\n",
        "        loss=criterion(outputs,labels)\n",
        "        _, predicted = torch.max(outputs.data, 1)\n",
        "        total += labels.size(0)\n",
        "        correct += (predicted == labels).sum().item()\n",
        "        accumulated_loss+=loss.detach().numpy().astype(np.float64)\n",
        "      test_loss_list.append(accumulated_loss/len(test_loader))\n",
        "      test_accuracy=correct/total\n",
        "      print(f'EPOCH{epoch}...................')\n",
        "      print('Accuracy on test set: {}%'.format(100 * test_accuracy))\n",
        "      test_accuracy_list.append(test_accuracy)\n",
        "\n",
        "\n",
        "print('training finished....')\n",
        "from pathlib import Path\n",
        "MODEL_PATH=Path(\"models\")\n",
        "MODEL_PATH.mkdir(parents=True,exist_ok=True)\n",
        "MODEL_NAME=\"Dataset1_ShuffleNet.pth\"\n",
        "MODEL_SAVE_PATH=MODEL_PATH/MODEL_NAME\n",
        "print(f\"Model saving in...{MODEL_SAVE_PATH}\")\n",
        "torch.save(obj=model.state_dict(),f=MODEL_SAVE_PATH)"
      ],
      "metadata": {
        "id": "EadPlIN_WnuH",
        "colab": {
          "base_uri": "https://localhost:8080/"
        },
        "outputId": "faafa99a-50ec-4137-84ff-8f20e260fa6d"
      },
      "execution_count": null,
      "outputs": [
        {
          "output_type": "stream",
          "name": "stdout",
          "text": [
            "Loss for 100/421 of 0 epochs is:  tensor(2.7983, grad_fn=<NllLossBackward0>)\n",
            "Loss for 200/421 of 0 epochs is:  tensor(2.0953, grad_fn=<NllLossBackward0>)\n",
            "Loss for 300/421 of 0 epochs is:  tensor(1.8860, grad_fn=<NllLossBackward0>)\n",
            "Loss for 400/421 of 0 epochs is:  tensor(1.5062, grad_fn=<NllLossBackward0>)\n",
            "EPOCH0....................\n",
            "Accuracy on training set: 30.025993316004456%\n",
            "EPOCH0.......\n",
            "Accuracy on validation set: 36.709236709236706%\n",
            "EPOCH0...................\n",
            "Accuracy on test set: 36.905893536121674%\n",
            "Loss for 100/421 of 1 epochs is:  tensor(1.3624, grad_fn=<NllLossBackward0>)\n",
            "Loss for 200/421 of 1 epochs is:  tensor(1.7885, grad_fn=<NllLossBackward0>)\n",
            "Loss for 300/421 of 1 epochs is:  tensor(0.9357, grad_fn=<NllLossBackward0>)\n",
            "Loss for 400/421 of 1 epochs is:  tensor(0.7833, grad_fn=<NllLossBackward0>)\n",
            "EPOCH1....................\n",
            "Accuracy on training set: 58.56665428889713%\n",
            "EPOCH1.......\n",
            "Accuracy on validation set: 69.26046926046926%\n",
            "EPOCH1...................\n",
            "Accuracy on test set: 69.32034220532319%\n",
            "Loss for 100/421 of 2 epochs is:  tensor(0.8526, grad_fn=<NllLossBackward0>)\n",
            "Loss for 200/421 of 2 epochs is:  tensor(1.1848, grad_fn=<NllLossBackward0>)\n",
            "Loss for 300/421 of 2 epochs is:  tensor(1.2653, grad_fn=<NllLossBackward0>)\n",
            "Loss for 400/421 of 2 epochs is:  tensor(0.6582, grad_fn=<NllLossBackward0>)\n",
            "EPOCH2....................\n",
            "Accuracy on training set: 68.31043445971035%\n",
            "EPOCH2.......\n",
            "Accuracy on validation set: 73.03237303237303%\n",
            "EPOCH2...................\n",
            "Accuracy on test set: 73.09885931558935%\n",
            "Loss for 100/421 of 3 epochs is:  tensor(0.5557, grad_fn=<NllLossBackward0>)\n",
            "Loss for 200/421 of 3 epochs is:  tensor(0.9187, grad_fn=<NllLossBackward0>)\n",
            "Loss for 300/421 of 3 epochs is:  tensor(0.8617, grad_fn=<NllLossBackward0>)\n",
            "Loss for 400/421 of 3 epochs is:  tensor(0.6958, grad_fn=<NllLossBackward0>)\n",
            "EPOCH3....................\n",
            "Accuracy on training set: 75.46973635350909%\n",
            "EPOCH3.......\n",
            "Accuracy on validation set: 83.13038313038314%\n",
            "EPOCH3...................\n",
            "Accuracy on test set: 83.38878326996198%\n",
            "Loss for 100/421 of 4 epochs is:  tensor(1.2698, grad_fn=<NllLossBackward0>)\n",
            "Loss for 200/421 of 4 epochs is:  tensor(0.7341, grad_fn=<NllLossBackward0>)\n",
            "Loss for 300/421 of 4 epochs is:  tensor(0.4244, grad_fn=<NllLossBackward0>)\n",
            "Loss for 400/421 of 4 epochs is:  tensor(0.6334, grad_fn=<NllLossBackward0>)\n",
            "EPOCH4....................\n",
            "Accuracy on training set: 77.64574823616785%\n",
            "EPOCH4.......\n",
            "Accuracy on validation set: 85.5954855954856%\n",
            "EPOCH4...................\n",
            "Accuracy on test set: 85.69391634980988%\n",
            "Loss for 100/421 of 5 epochs is:  tensor(0.6055, grad_fn=<NllLossBackward0>)\n",
            "Loss for 200/421 of 5 epochs is:  tensor(0.4847, grad_fn=<NllLossBackward0>)\n",
            "Loss for 300/421 of 5 epochs is:  tensor(0.3103, grad_fn=<NllLossBackward0>)\n",
            "Loss for 400/421 of 5 epochs is:  tensor(0.6329, grad_fn=<NllLossBackward0>)\n",
            "EPOCH5....................\n",
            "Accuracy on training set: 81.07686594875604%\n",
            "EPOCH5.......\n",
            "Accuracy on validation set: 85.12028512028512%\n",
            "EPOCH5...................\n",
            "Accuracy on test set: 85.00475285171103%\n",
            "Loss for 100/421 of 6 epochs is:  tensor(0.3626, grad_fn=<NllLossBackward0>)\n",
            "Loss for 200/421 of 6 epochs is:  tensor(0.3131, grad_fn=<NllLossBackward0>)\n",
            "Loss for 300/421 of 6 epochs is:  tensor(0.5130, grad_fn=<NllLossBackward0>)\n",
            "Loss for 400/421 of 6 epochs is:  tensor(0.4794, grad_fn=<NllLossBackward0>)\n",
            "EPOCH6....................\n",
            "Accuracy on training set: 82.85183809877459%\n",
            "EPOCH6.......\n",
            "Accuracy on validation set: 85.35788535788535%\n",
            "EPOCH6...................\n",
            "Accuracy on test set: 85.31368821292776%\n",
            "Loss for 100/421 of 7 epochs is:  tensor(0.6452, grad_fn=<NllLossBackward0>)\n",
            "Loss for 200/421 of 7 epochs is:  tensor(0.4202, grad_fn=<NllLossBackward0>)\n",
            "Loss for 300/421 of 7 epochs is:  tensor(0.5211, grad_fn=<NllLossBackward0>)\n",
            "Loss for 400/421 of 7 epochs is:  tensor(0.6586, grad_fn=<NllLossBackward0>)\n",
            "EPOCH7....................\n",
            "Accuracy on training set: 84.61195692536205%\n",
            "EPOCH7.......\n",
            "Accuracy on validation set: 84.76388476388476%\n",
            "EPOCH7...................\n",
            "Accuracy on test set: 84.52946768060836%\n",
            "Loss for 100/421 of 8 epochs is:  tensor(0.2143, grad_fn=<NllLossBackward0>)\n",
            "Loss for 200/421 of 8 epochs is:  tensor(0.2888, grad_fn=<NllLossBackward0>)\n",
            "Loss for 300/421 of 8 epochs is:  tensor(0.1451, grad_fn=<NllLossBackward0>)\n",
            "Loss for 400/421 of 8 epochs is:  tensor(0.3258, grad_fn=<NllLossBackward0>)\n",
            "EPOCH8....................\n",
            "Accuracy on training set: 86.82510211659859%\n",
            "EPOCH8.......\n",
            "Accuracy on validation set: 88.26848826848827%\n",
            "EPOCH8...................\n",
            "Accuracy on test set: 88.71197718631178%\n",
            "Loss for 100/421 of 9 epochs is:  tensor(0.2930, grad_fn=<NllLossBackward0>)\n",
            "Loss for 200/421 of 9 epochs is:  tensor(0.4256, grad_fn=<NllLossBackward0>)\n",
            "Loss for 300/421 of 9 epochs is:  tensor(0.5092, grad_fn=<NllLossBackward0>)\n",
            "Loss for 400/421 of 9 epochs is:  tensor(0.4292, grad_fn=<NllLossBackward0>)\n",
            "EPOCH9....................\n",
            "Accuracy on training set: 88.54066097289268%\n",
            "EPOCH9.......\n",
            "Accuracy on validation set: 87.46658746658747%\n",
            "EPOCH9...................\n",
            "Accuracy on test set: 87.33365019011407%\n",
            "Loss for 100/421 of 10 epochs is:  tensor(0.2833, grad_fn=<NllLossBackward0>)\n",
            "Loss for 200/421 of 10 epochs is:  tensor(0.1777, grad_fn=<NllLossBackward0>)\n",
            "Loss for 300/421 of 10 epochs is:  tensor(0.3264, grad_fn=<NllLossBackward0>)\n",
            "Loss for 400/421 of 10 epochs is:  tensor(0.1231, grad_fn=<NllLossBackward0>)\n",
            "EPOCH10....................\n",
            "Accuracy on training set: 89.33531377645748%\n",
            "EPOCH10.......\n",
            "Accuracy on validation set: 91.000891000891%\n",
            "EPOCH10...................\n",
            "Accuracy on test set: 90.8032319391635%\n",
            "Loss for 100/421 of 11 epochs is:  tensor(0.2649, grad_fn=<NllLossBackward0>)\n",
            "Loss for 200/421 of 11 epochs is:  tensor(0.2943, grad_fn=<NllLossBackward0>)\n",
            "Loss for 300/421 of 11 epochs is:  tensor(0.6399, grad_fn=<NllLossBackward0>)\n",
            "Loss for 400/421 of 11 epochs is:  tensor(0.2368, grad_fn=<NllLossBackward0>)\n",
            "EPOCH11....................\n",
            "Accuracy on training set: 90.99888600074266%\n",
            "EPOCH11.......\n",
            "Accuracy on validation set: 86.51618651618651%\n",
            "EPOCH11...................\n",
            "Accuracy on test set: 88.16539923954373%\n",
            "Loss for 100/421 of 12 epochs is:  tensor(0.5588, grad_fn=<NllLossBackward0>)\n",
            "Loss for 200/421 of 12 epochs is:  tensor(0.3247, grad_fn=<NllLossBackward0>)\n",
            "Loss for 300/421 of 12 epochs is:  tensor(0.2168, grad_fn=<NllLossBackward0>)\n",
            "Loss for 400/421 of 12 epochs is:  tensor(0.1073, grad_fn=<NllLossBackward0>)\n",
            "EPOCH12....................\n",
            "Accuracy on training set: 91.87523208317862%\n",
            "EPOCH12.......\n",
            "Accuracy on validation set: 93.94119394119394%\n",
            "EPOCH12...................\n",
            "Accuracy on test set: 93.27471482889734%\n",
            "Loss for 100/421 of 13 epochs is:  tensor(0.4957, grad_fn=<NllLossBackward0>)\n",
            "Loss for 200/421 of 13 epochs is:  tensor(0.1103, grad_fn=<NllLossBackward0>)\n",
            "Loss for 300/421 of 13 epochs is:  tensor(0.3205, grad_fn=<NllLossBackward0>)\n",
            "Loss for 400/421 of 13 epochs is:  tensor(0.0587, grad_fn=<NllLossBackward0>)\n",
            "EPOCH13....................\n",
            "Accuracy on training set: 92.43223171184553%\n",
            "EPOCH13.......\n",
            "Accuracy on validation set: 94.26789426789426%\n",
            "EPOCH13...................\n",
            "Accuracy on test set: 93.8212927756654%\n",
            "Loss for 100/421 of 14 epochs is:  tensor(0.0343, grad_fn=<NllLossBackward0>)\n",
            "Loss for 200/421 of 14 epochs is:  tensor(0.4708, grad_fn=<NllLossBackward0>)\n",
            "Loss for 300/421 of 14 epochs is:  tensor(0.2714, grad_fn=<NllLossBackward0>)\n",
            "Loss for 400/421 of 14 epochs is:  tensor(0.3344, grad_fn=<NllLossBackward0>)\n",
            "EPOCH14....................\n",
            "Accuracy on training set: 93.31600445599703%\n",
            "EPOCH14.......\n",
            "Accuracy on validation set: 94.47579447579447%\n",
            "EPOCH14...................\n",
            "Accuracy on test set: 95.08079847908745%\n",
            "Loss for 100/421 of 15 epochs is:  tensor(0.2574, grad_fn=<NllLossBackward0>)\n",
            "Loss for 200/421 of 15 epochs is:  tensor(0.1500, grad_fn=<NllLossBackward0>)\n",
            "Loss for 300/421 of 15 epochs is:  tensor(0.0879, grad_fn=<NllLossBackward0>)\n",
            "Loss for 400/421 of 15 epochs is:  tensor(0.1237, grad_fn=<NllLossBackward0>)\n",
            "EPOCH15....................\n",
            "Accuracy on training set: 94.16264389157074%\n",
            "EPOCH15.......\n",
            "Accuracy on validation set: 94.53519453519453%\n",
            "EPOCH15...................\n",
            "Accuracy on test set: 95.29467680608364%\n",
            "Loss for 100/421 of 16 epochs is:  tensor(0.1779, grad_fn=<NllLossBackward0>)\n",
            "Loss for 200/421 of 16 epochs is:  tensor(0.3127, grad_fn=<NllLossBackward0>)\n",
            "Loss for 300/421 of 16 epochs is:  tensor(0.0246, grad_fn=<NllLossBackward0>)\n",
            "Loss for 400/421 of 16 epochs is:  tensor(0.0593, grad_fn=<NllLossBackward0>)\n",
            "EPOCH16....................\n",
            "Accuracy on training set: 94.22948384701077%\n",
            "EPOCH16.......\n",
            "Accuracy on validation set: 93.67389367389367%\n",
            "EPOCH16...................\n",
            "Accuracy on test set: 94.5342205323194%\n",
            "Loss for 100/421 of 17 epochs is:  tensor(0.2202, grad_fn=<NllLossBackward0>)\n",
            "Loss for 200/421 of 17 epochs is:  tensor(0.2168, grad_fn=<NllLossBackward0>)\n",
            "Loss for 300/421 of 17 epochs is:  tensor(0.4094, grad_fn=<NllLossBackward0>)\n",
            "Loss for 400/421 of 17 epochs is:  tensor(0.0417, grad_fn=<NllLossBackward0>)\n",
            "EPOCH17....................\n",
            "Accuracy on training set: 94.80876346082437%\n",
            "EPOCH17.......\n",
            "Accuracy on validation set: 93.97089397089398%\n",
            "EPOCH17...................\n",
            "Accuracy on test set: 94.98574144486692%\n",
            "Loss for 100/421 of 18 epochs is:  tensor(0.1007, grad_fn=<NllLossBackward0>)\n",
            "Loss for 200/421 of 18 epochs is:  tensor(0.1146, grad_fn=<NllLossBackward0>)\n",
            "Loss for 300/421 of 18 epochs is:  tensor(0.1639, grad_fn=<NllLossBackward0>)\n",
            "Loss for 400/421 of 18 epochs is:  tensor(0.0262, grad_fn=<NllLossBackward0>)\n",
            "EPOCH18....................\n",
            "Accuracy on training set: 94.84589676940215%\n",
            "EPOCH18.......\n",
            "Accuracy on validation set: 93.67389367389367%\n",
            "EPOCH18...................\n",
            "Accuracy on test set: 93.84505703422053%\n",
            "Loss for 100/421 of 19 epochs is:  tensor(0.4036, grad_fn=<NllLossBackward0>)\n",
            "Loss for 200/421 of 19 epochs is:  tensor(0.1042, grad_fn=<NllLossBackward0>)\n",
            "Loss for 300/421 of 19 epochs is:  tensor(0.2016, grad_fn=<NllLossBackward0>)\n",
            "Loss for 400/421 of 19 epochs is:  tensor(0.2155, grad_fn=<NllLossBackward0>)\n",
            "EPOCH19....................\n",
            "Accuracy on training set: 94.91273672484219%\n",
            "EPOCH19.......\n",
            "Accuracy on validation set: 95.30739530739531%\n",
            "EPOCH19...................\n",
            "Accuracy on test set: 95.93631178707224%\n",
            "training finished....\n",
            "Model saving in...models/Dataset1_ShuffleNet.pth\n"
          ]
        }
      ]
    },
    {
      "cell_type": "code",
      "source": [
        "# import numpy as np\n",
        "# numpy_training_loss_list=[tensor.detach().numpy().astype(np.float64) for tensor in train_loss_list]\n",
        "# numpy_array_training_loss= np.array(numpy_training_loss_list)\n",
        "# numpy_validation_loss_list=[tensor.detach().numpy().astype(np.float64) for tensor in validation_loss_list]\n",
        "# numpy_array_validation_loss= np.array(numpy_validation_loss_list)\n",
        "# numpy_test_loss_list=[tensor.detach().numpy().astype(np.float64) for tensor in test_loss_list]\n",
        "# numpy_array_test_loss= np.array(numpy_test_loss_list)\n",
        "# print(numpy_array_training_loss.shape,numpy_array_validation_loss.shape,numpy_array_test_loss.shape)"
      ],
      "metadata": {
        "id": "VELPK9V_HrwM"
      },
      "execution_count": null,
      "outputs": []
    },
    {
      "cell_type": "code",
      "source": [
        "import matplotlib.pyplot as plt\n",
        "from google.colab import files\n",
        "fig,ax=plt.subplots()\n",
        "ax.plot(epochs_list,train_loss_list,'g',label='Training Loss')\n",
        "ax.plot(epochs_list,validation_loss_list,'b',label='Validation Loss')\n",
        "ax.plot(epochs_list,test_loss_list,'r',label='Test Loss')\n",
        "ax.plot()\n",
        "ax.set_title('ShuffleNet Loss Comparisions on dataset1')\n",
        "ax.set_xlabel('Number of epochs')\n",
        "ax.set_ylabel('Loss')\n",
        "ax.legend()\n",
        "plt.savefig('Dataset1_ShuffleNet_Loss.png')\n",
        "files.download('Dataset1_ShuffleNet_Loss.png')\n",
        "plt.show()"
      ],
      "metadata": {
        "id": "YXBprOeHHtIK",
        "colab": {
          "base_uri": "https://localhost:8080/",
          "height": 472
        },
        "outputId": "29532eac-32e3-44a8-d5a8-ca98dac1e0ce"
      },
      "execution_count": null,
      "outputs": [
        {
          "output_type": "display_data",
          "data": {
            "text/plain": [
              "<IPython.core.display.Javascript object>"
            ],
            "application/javascript": [
              "\n",
              "    async function download(id, filename, size) {\n",
              "      if (!google.colab.kernel.accessAllowed) {\n",
              "        return;\n",
              "      }\n",
              "      const div = document.createElement('div');\n",
              "      const label = document.createElement('label');\n",
              "      label.textContent = `Downloading \"${filename}\": `;\n",
              "      div.appendChild(label);\n",
              "      const progress = document.createElement('progress');\n",
              "      progress.max = size;\n",
              "      div.appendChild(progress);\n",
              "      document.body.appendChild(div);\n",
              "\n",
              "      const buffers = [];\n",
              "      let downloaded = 0;\n",
              "\n",
              "      const channel = await google.colab.kernel.comms.open(id);\n",
              "      // Send a message to notify the kernel that we're ready.\n",
              "      channel.send({})\n",
              "\n",
              "      for await (const message of channel.messages) {\n",
              "        // Send a message to notify the kernel that we're ready.\n",
              "        channel.send({})\n",
              "        if (message.buffers) {\n",
              "          for (const buffer of message.buffers) {\n",
              "            buffers.push(buffer);\n",
              "            downloaded += buffer.byteLength;\n",
              "            progress.value = downloaded;\n",
              "          }\n",
              "        }\n",
              "      }\n",
              "      const blob = new Blob(buffers, {type: 'application/binary'});\n",
              "      const a = document.createElement('a');\n",
              "      a.href = window.URL.createObjectURL(blob);\n",
              "      a.download = filename;\n",
              "      div.appendChild(a);\n",
              "      a.click();\n",
              "      div.remove();\n",
              "    }\n",
              "  "
            ]
          },
          "metadata": {}
        },
        {
          "output_type": "display_data",
          "data": {
            "text/plain": [
              "<IPython.core.display.Javascript object>"
            ],
            "application/javascript": [
              "download(\"download_9183cf93-4046-4f36-a149-86fc176eb554\", \"Dataset1_ShuffleNet_Loss.png\", 39997)"
            ]
          },
          "metadata": {}
        },
        {
          "output_type": "display_data",
          "data": {
            "text/plain": [
              "<Figure size 640x480 with 1 Axes>"
            ],
            "image/png": "[encoded data removed]"
          },
          "metadata": {}
        }
      ]
    },
    {
      "cell_type": "code",
      "source": [
        "import matplotlib.pyplot as plt\n",
        "from google.colab import files\n",
        "fig,ax=plt.subplots()\n",
        "ax.plot(epochs_list,training_accuracy_list,'g',label='Training Accuracy')\n",
        "ax.plot(epochs_list,validation_accuracy_list,'b',label='Validation Accuracy')\n",
        "ax.plot(epochs_list,test_accuracy_list,'r',label='Test Accuracy')\n",
        "ax.plot()\n",
        "ax.set_title('ShuffleNet Accuracy Comparision on dataset1')\n",
        "ax.set_xlabel('Number of epochs')\n",
        "ax.set_ylabel('Accuracy')\n",
        "ax.legend()\n",
        "plt.savefig('Dataset1_ShuffleNet_Accuracy.png')\n",
        "files.download('Dataset1_ShuffleNet_Accuracy.png')\n",
        "plt.show()"
      ],
      "metadata": {
        "id": "MbvGgHJrHyqe",
        "colab": {
          "base_uri": "https://localhost:8080/",
          "height": 472
        },
        "outputId": "e46e06ad-6215-4515-b7b5-ae7f51aa257c"
      },
      "execution_count": null,
      "outputs": [
        {
          "output_type": "display_data",
          "data": {
            "text/plain": [
              "<IPython.core.display.Javascript object>"
            ],
            "application/javascript": [
              "\n",
              "    async function download(id, filename, size) {\n",
              "      if (!google.colab.kernel.accessAllowed) {\n",
              "        return;\n",
              "      }\n",
              "      const div = document.createElement('div');\n",
              "      const label = document.createElement('label');\n",
              "      label.textContent = `Downloading \"${filename}\": `;\n",
              "      div.appendChild(label);\n",
              "      const progress = document.createElement('progress');\n",
              "      progress.max = size;\n",
              "      div.appendChild(progress);\n",
              "      document.body.appendChild(div);\n",
              "\n",
              "      const buffers = [];\n",
              "      let downloaded = 0;\n",
              "\n",
              "      const channel = await google.colab.kernel.comms.open(id);\n",
              "      // Send a message to notify the kernel that we're ready.\n",
              "      channel.send({})\n",
              "\n",
              "      for await (const message of channel.messages) {\n",
              "        // Send a message to notify the kernel that we're ready.\n",
              "        channel.send({})\n",
              "        if (message.buffers) {\n",
              "          for (const buffer of message.buffers) {\n",
              "            buffers.push(buffer);\n",
              "            downloaded += buffer.byteLength;\n",
              "            progress.value = downloaded;\n",
              "          }\n",
              "        }\n",
              "      }\n",
              "      const blob = new Blob(buffers, {type: 'application/binary'});\n",
              "      const a = document.createElement('a');\n",
              "      a.href = window.URL.createObjectURL(blob);\n",
              "      a.download = filename;\n",
              "      div.appendChild(a);\n",
              "      a.click();\n",
              "      div.remove();\n",
              "    }\n",
              "  "
            ]
          },
          "metadata": {}
        },
        {
          "output_type": "display_data",
          "data": {
            "text/plain": [
              "<IPython.core.display.Javascript object>"
            ],
            "application/javascript": [
              "download(\"download_b9c98f70-2662-4fe2-984f-827a0d1ec6d6\", \"Dataset1_ShuffleNet_Accuracy.png\", 40789)"
            ]
          },
          "metadata": {}
        },
        {
          "output_type": "display_data",
          "data": {
            "text/plain": [
              "<Figure size 640x480 with 1 Axes>"
            ],
            "image/png": "[encoded data removed]"
          },
          "metadata": {}
        }
      ]
    },
    {
      "cell_type": "code",
      "source": [
        "# #Evaluate the model's output\n",
        "# model.eval()\n",
        "# with torch.no_grad():\n",
        "#     correct = 0\n",
        "#     total = 0\n",
        "#     for images, labels in validation_loader:\n",
        "#         outputs = model(images)\n",
        "#         _, predicted = torch.max(outputs.data, 1)\n",
        "#         total += labels.size(0)\n",
        "#         correct += (predicted == labels).sum().item()\n",
        "#     accuracy = correct / total\n",
        "#     print('Accuracy on validation set: {}%'.format(100 * accuracy))"
      ],
      "metadata": {
        "id": "bkrqdiL1WrIY"
      },
      "execution_count": null,
      "outputs": []
    },
    {
      "cell_type": "code",
      "source": [
        "# test_dataset = CustomDataset(images=X_test, labels=y_test, transform=transform)\n",
        "# test_loader = DataLoader(test_dataset, batch_size=batch_size, shuffle=False)\n",
        "# predicted_list=[]\n",
        "# labels_list=[]\n",
        "# model.eval()\n",
        "# with torch.no_grad():\n",
        "#     correct = 0\n",
        "#     total = 0\n",
        "#     for images, labels in test_loader:\n",
        "#         outputs = model(images)\n",
        "#         _, predicted = torch.max(outputs.data, 1)\n",
        "#         total += labels.size(0)\n",
        "#         correct += (predicted == labels).sum().item()\n",
        "#         predicted_list.append(predicted)\n",
        "#         labels_list.append(labels)\n",
        "#     accuracy = correct / total\n",
        "#     print('Accuracy on test set: {}%'.format(100 * accuracy))"
      ],
      "metadata": {
        "id": "QQZUTPMRWuia"
      },
      "execution_count": null,
      "outputs": []
    }
  ]
}